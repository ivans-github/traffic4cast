{
 "cells": [
  {
   "cell_type": "code",
   "execution_count": 1,
   "metadata": {
    "_cell_guid": "b1076dfc-b9ad-4769-8c92-a6c4dae69d19",
    "_uuid": "8f2839f25d086af736a60e9eeb907d3b93b6e0e5"
   },
   "outputs": [],
   "source": [
    "from fastai.basics import *\n",
    "from fastai.callback.schedule import fit_one_cycle\n",
    "from fastai.callback.hook import summary\n",
    "from fastai.callback.tracker import SaveModelCallback\n",
    "from fastai.data.load import DataLoader as FDataLoader\n",
    "from torch.utils.data import *\n",
    "\n",
    "from traffic_dataset import *\n",
    "from model import *"
   ]
  },
  {
   "cell_type": "markdown",
   "metadata": {},
   "source": [
    "# Initialise Training and Validation DataLoaders"
   ]
  },
  {
   "cell_type": "code",
   "execution_count": 2,
   "metadata": {},
   "outputs": [],
   "source": [
    "data_folder = '../storage/'\n",
    "city = 'MOSCOW'\n",
    "bs = 4\n",
    "time_step = 24\n",
    "\n",
    "train = TrafficDataset(data_folder = data_folder, city=city, partition='training2', time_step=time_step, bs=bs)\n",
    "valid = TrafficDataset(data_folder = data_folder, city=city, partition='validation2', time_step=24, bs=bs)\n",
    "train_dl = FDataLoader(dataset=train,\n",
    "                       bs=None,\n",
    "                       num_workers=bs,\n",
    "                       pin_memory=True,\n",
    "                       shuffle=True,\n",
    "                       device=torch.device('cuda'))\n",
    "valid_dl = FDataLoader(dataset=valid,\n",
    "                       bs=None,\n",
    "                       num_workers=bs,\n",
    "                       pin_memory=True,\n",
    "                       shuffle=True,\n",
    "                       device=torch.device('cuda'))\n",
    "\n",
    "data = DataLoaders(train_dl, valid_dl, device=torch.device('cuda'))"
   ]
  },
  {
   "cell_type": "code",
   "execution_count": 3,
   "metadata": {},
   "outputs": [
    {
     "data": {
      "text/plain": [
       "(499, 49)"
      ]
     },
     "execution_count": 3,
     "metadata": {},
     "output_type": "execute_result"
    }
   ],
   "source": [
    "len(train_dl), len(valid_dl)"
   ]
  },
  {
   "cell_type": "code",
   "execution_count": 4,
   "metadata": {},
   "outputs": [
    {
     "data": {
      "text/plain": [
       "(torch.Size([4, 116, 495, 436]), torch.Size([4, 8, 12, 495, 436]))"
      ]
     },
     "execution_count": 4,
     "metadata": {},
     "output_type": "execute_result"
    }
   ],
   "source": [
    "xb,yb = data.one_batch()\n",
    "xb.shape,yb.shape"
   ]
  },
  {
   "cell_type": "markdown",
   "metadata": {},
   "source": [
    "# Define Leaderboard Score"
   ]
  },
  {
   "cell_type": "markdown",
   "metadata": {},
   "source": [
    "Model is predicting 12 frames in 5-minute intervals, while leaderboard only takes into account 6 of the 12 frames, hence excess frames need to be discarded when calculating the leaderboard score."
   ]
  },
  {
   "cell_type": "code",
   "execution_count": 5,
   "metadata": {},
   "outputs": [],
   "source": [
    "# pred.shape = (Batch Size, Channels, Time, Height, Width)\n",
    "# When calculating the score, only frames 0,1,2,5,8,11 are considered, these frames correspond to 5,10,15,30,45,60 minutes\n",
    "def leaderboard(pred, label):\n",
    "    pred = torch.floor(pred)\n",
    "    return F.mse_loss(pred[...,[0,1,2,5,8,11],:,:], label[...,[0,1,2,5,8,11],:,:])"
   ]
  },
  {
   "cell_type": "markdown",
   "metadata": {},
   "source": [
    "# Initialise Model"
   ]
  },
  {
   "cell_type": "code",
   "execution_count": 6,
   "metadata": {},
   "outputs": [],
   "source": [
    "learn = Learner(data, NetO().cuda(), loss_func=nn.MSELoss(), metrics=leaderboard)"
   ]
  },
  {
   "cell_type": "markdown",
   "metadata": {},
   "source": [
    "# Print Model Summary"
   ]
  },
  {
   "cell_type": "code",
   "execution_count": 7,
   "metadata": {},
   "outputs": [
    {
     "data": {
      "text/html": [
       "<table border=\"1\" class=\"dataframe\">\n",
       "  <thead>\n",
       "    <tr style=\"text-align: left;\">\n",
       "      <th>epoch</th>\n",
       "      <th>train_loss</th>\n",
       "      <th>valid_loss</th>\n",
       "      <th>leaderboard</th>\n",
       "      <th>time</th>\n",
       "    </tr>\n",
       "  </thead>\n",
       "  <tbody>\n",
       "    <tr>\n",
       "      <td>0</td>\n",
       "      <td>None</td>\n",
       "      <td>None</td>\n",
       "      <td>00:02</td>\n",
       "    </tr>\n",
       "  </tbody>\n",
       "</table>"
      ],
      "text/plain": [
       "<IPython.core.display.HTML object>"
      ]
     },
     "metadata": {},
     "output_type": "display_data"
    },
    {
     "data": {
      "text/plain": [
       "NetO (Input shape: ['4 x 116 x 495 x 436'])\n",
       "================================================================\n",
       "Layer (type)         Output Shape         Param #    Trainable \n",
       "================================================================\n",
       "Conv2d               4 x 64 x 495 x 436   82,432     True      \n",
       "________________________________________________________________\n",
       "ELU                  4 x 64 x 495 x 436   0          False     \n",
       "________________________________________________________________\n",
       "GroupNorm            4 x 64 x 495 x 436   128        True      \n",
       "________________________________________________________________\n",
       "Conv2d               4 x 64 x 495 x 436   119,296    True      \n",
       "________________________________________________________________\n",
       "ELU                  4 x 64 x 495 x 436   0          False     \n",
       "________________________________________________________________\n",
       "GroupNorm            4 x 64 x 495 x 436   128        True      \n",
       "________________________________________________________________\n",
       "Conv2d               4 x 64 x 495 x 436   156,160    True      \n",
       "________________________________________________________________\n",
       "ELU                  4 x 64 x 495 x 436   0          False     \n",
       "________________________________________________________________\n",
       "GroupNorm            4 x 64 x 495 x 436   128        True      \n",
       "________________________________________________________________\n",
       "Conv2d               4 x 64 x 495 x 436   193,024    True      \n",
       "________________________________________________________________\n",
       "ELU                  4 x 64 x 495 x 436   0          False     \n",
       "________________________________________________________________\n",
       "GroupNorm            4 x 64 x 495 x 436   128        True      \n",
       "________________________________________________________________\n",
       "Conv2d               4 x 64 x 495 x 436   25,600     True      \n",
       "________________________________________________________________\n",
       "ELU                  4 x 64 x 495 x 436   0          False     \n",
       "________________________________________________________________\n",
       "AvgPool2d            4 x 64 x 248 x 218   0          False     \n",
       "________________________________________________________________\n",
       "Conv2d               4 x 96 x 248 x 218   55,392     True      \n",
       "________________________________________________________________\n",
       "ELU                  4 x 96 x 248 x 218   0          False     \n",
       "________________________________________________________________\n",
       "GroupNorm            4 x 96 x 248 x 218   192        True      \n",
       "________________________________________________________________\n",
       "Conv2d               4 x 96 x 248 x 218   138,336    True      \n",
       "________________________________________________________________\n",
       "ELU                  4 x 96 x 248 x 218   0          False     \n",
       "________________________________________________________________\n",
       "GroupNorm            4 x 96 x 248 x 218   192        True      \n",
       "________________________________________________________________\n",
       "Conv2d               4 x 96 x 248 x 218   221,280    True      \n",
       "________________________________________________________________\n",
       "ELU                  4 x 96 x 248 x 218   0          False     \n",
       "________________________________________________________________\n",
       "GroupNorm            4 x 96 x 248 x 218   192        True      \n",
       "________________________________________________________________\n",
       "Conv2d               4 x 96 x 248 x 218   304,224    True      \n",
       "________________________________________________________________\n",
       "ELU                  4 x 96 x 248 x 218   0          False     \n",
       "________________________________________________________________\n",
       "GroupNorm            4 x 96 x 248 x 218   192        True      \n",
       "________________________________________________________________\n",
       "Conv2d               4 x 96 x 248 x 218   43,104     True      \n",
       "________________________________________________________________\n",
       "ELU                  4 x 96 x 248 x 218   0          False     \n",
       "________________________________________________________________\n",
       "AvgPool2d            4 x 96 x 124 x 109   0          False     \n",
       "________________________________________________________________\n",
       "Conv2d               4 x 128 x 124 x 109  110,720    True      \n",
       "________________________________________________________________\n",
       "ELU                  4 x 128 x 124 x 109  0          False     \n",
       "________________________________________________________________\n",
       "GroupNorm            4 x 128 x 124 x 109  256        True      \n",
       "________________________________________________________________\n",
       "Conv2d               4 x 128 x 124 x 109  258,176    True      \n",
       "________________________________________________________________\n",
       "ELU                  4 x 128 x 124 x 109  0          False     \n",
       "________________________________________________________________\n",
       "GroupNorm            4 x 128 x 124 x 109  256        True      \n",
       "________________________________________________________________\n",
       "Conv2d               4 x 128 x 124 x 109  405,632    True      \n",
       "________________________________________________________________\n",
       "ELU                  4 x 128 x 124 x 109  0          False     \n",
       "________________________________________________________________\n",
       "GroupNorm            4 x 128 x 124 x 109  256        True      \n",
       "________________________________________________________________\n",
       "Conv2d               4 x 128 x 124 x 109  553,088    True      \n",
       "________________________________________________________________\n",
       "ELU                  4 x 128 x 124 x 109  0          False     \n",
       "________________________________________________________________\n",
       "GroupNorm            4 x 128 x 124 x 109  256        True      \n",
       "________________________________________________________________\n",
       "Conv2d               4 x 128 x 124 x 109  77,952     True      \n",
       "________________________________________________________________\n",
       "ELU                  4 x 128 x 124 x 109  0          False     \n",
       "________________________________________________________________\n",
       "AvgPool2d            4 x 128 x 62 x 55    0          False     \n",
       "________________________________________________________________\n",
       "Conv2d               4 x 128 x 62 x 55    147,584    True      \n",
       "________________________________________________________________\n",
       "ELU                  4 x 128 x 62 x 55    0          False     \n",
       "________________________________________________________________\n",
       "GroupNorm            4 x 128 x 62 x 55    256        True      \n",
       "________________________________________________________________\n",
       "Conv2d               4 x 128 x 62 x 55    295,040    True      \n",
       "________________________________________________________________\n",
       "ELU                  4 x 128 x 62 x 55    0          False     \n",
       "________________________________________________________________\n",
       "GroupNorm            4 x 128 x 62 x 55    256        True      \n",
       "________________________________________________________________\n",
       "Conv2d               4 x 128 x 62 x 55    442,496    True      \n",
       "________________________________________________________________\n",
       "ELU                  4 x 128 x 62 x 55    0          False     \n",
       "________________________________________________________________\n",
       "GroupNorm            4 x 128 x 62 x 55    256        True      \n",
       "________________________________________________________________\n",
       "Conv2d               4 x 128 x 62 x 55    589,952    True      \n",
       "________________________________________________________________\n",
       "ELU                  4 x 128 x 62 x 55    0          False     \n",
       "________________________________________________________________\n",
       "GroupNorm            4 x 128 x 62 x 55    256        True      \n",
       "________________________________________________________________\n",
       "Conv2d               4 x 128 x 62 x 55    82,048     True      \n",
       "________________________________________________________________\n",
       "ELU                  4 x 128 x 62 x 55    0          False     \n",
       "________________________________________________________________\n",
       "AvgPool2d            4 x 128 x 31 x 28    0          False     \n",
       "________________________________________________________________\n",
       "Conv2d               4 x 128 x 31 x 28    147,584    True      \n",
       "________________________________________________________________\n",
       "ELU                  4 x 128 x 31 x 28    0          False     \n",
       "________________________________________________________________\n",
       "GroupNorm            4 x 128 x 31 x 28    256        True      \n",
       "________________________________________________________________\n",
       "Conv2d               4 x 128 x 31 x 28    295,040    True      \n",
       "________________________________________________________________\n",
       "ELU                  4 x 128 x 31 x 28    0          False     \n",
       "________________________________________________________________\n",
       "GroupNorm            4 x 128 x 31 x 28    256        True      \n",
       "________________________________________________________________\n",
       "Conv2d               4 x 128 x 31 x 28    442,496    True      \n",
       "________________________________________________________________\n",
       "ELU                  4 x 128 x 31 x 28    0          False     \n",
       "________________________________________________________________\n",
       "GroupNorm            4 x 128 x 31 x 28    256        True      \n",
       "________________________________________________________________\n",
       "Conv2d               4 x 128 x 31 x 28    589,952    True      \n",
       "________________________________________________________________\n",
       "ELU                  4 x 128 x 31 x 28    0          False     \n",
       "________________________________________________________________\n",
       "GroupNorm            4 x 128 x 31 x 28    256        True      \n",
       "________________________________________________________________\n",
       "Conv2d               4 x 128 x 31 x 28    82,048     True      \n",
       "________________________________________________________________\n",
       "ELU                  4 x 128 x 31 x 28    0          False     \n",
       "________________________________________________________________\n",
       "AvgPool2d            4 x 128 x 16 x 14    0          False     \n",
       "________________________________________________________________\n",
       "Conv2d               4 x 128 x 16 x 14    147,584    True      \n",
       "________________________________________________________________\n",
       "ELU                  4 x 128 x 16 x 14    0          False     \n",
       "________________________________________________________________\n",
       "GroupNorm            4 x 128 x 16 x 14    256        True      \n",
       "________________________________________________________________\n",
       "Conv2d               4 x 128 x 16 x 14    295,040    True      \n",
       "________________________________________________________________\n",
       "ELU                  4 x 128 x 16 x 14    0          False     \n",
       "________________________________________________________________\n",
       "GroupNorm            4 x 128 x 16 x 14    256        True      \n",
       "________________________________________________________________\n",
       "Conv2d               4 x 128 x 16 x 14    442,496    True      \n",
       "________________________________________________________________\n",
       "ELU                  4 x 128 x 16 x 14    0          False     \n",
       "________________________________________________________________\n",
       "GroupNorm            4 x 128 x 16 x 14    256        True      \n",
       "________________________________________________________________\n",
       "Conv2d               4 x 128 x 16 x 14    589,952    True      \n",
       "________________________________________________________________\n",
       "ELU                  4 x 128 x 16 x 14    0          False     \n",
       "________________________________________________________________\n",
       "GroupNorm            4 x 128 x 16 x 14    256        True      \n",
       "________________________________________________________________\n",
       "Conv2d               4 x 128 x 16 x 14    82,048     True      \n",
       "________________________________________________________________\n",
       "ELU                  4 x 128 x 16 x 14    0          False     \n",
       "________________________________________________________________\n",
       "AvgPool2d            4 x 128 x 8 x 7      0          False     \n",
       "________________________________________________________________\n",
       "Conv2d               4 x 128 x 8 x 7      147,584    True      \n",
       "________________________________________________________________\n",
       "ELU                  4 x 128 x 8 x 7      0          False     \n",
       "________________________________________________________________\n",
       "GroupNorm            4 x 128 x 8 x 7      256        True      \n",
       "________________________________________________________________\n",
       "Conv2d               4 x 128 x 8 x 7      295,040    True      \n",
       "________________________________________________________________\n",
       "ELU                  4 x 128 x 8 x 7      0          False     \n",
       "________________________________________________________________\n",
       "GroupNorm            4 x 128 x 8 x 7      256        True      \n",
       "________________________________________________________________\n",
       "Conv2d               4 x 128 x 8 x 7      442,496    True      \n",
       "________________________________________________________________\n",
       "ELU                  4 x 128 x 8 x 7      0          False     \n",
       "________________________________________________________________\n",
       "GroupNorm            4 x 128 x 8 x 7      256        True      \n",
       "________________________________________________________________\n",
       "Conv2d               4 x 128 x 8 x 7      589,952    True      \n",
       "________________________________________________________________\n",
       "ELU                  4 x 128 x 8 x 7      0          False     \n",
       "________________________________________________________________\n",
       "GroupNorm            4 x 128 x 8 x 7      256        True      \n",
       "________________________________________________________________\n",
       "Conv2d               4 x 128 x 8 x 7      82,048     True      \n",
       "________________________________________________________________\n",
       "ELU                  4 x 128 x 8 x 7      0          False     \n",
       "________________________________________________________________\n",
       "AvgPool2d            4 x 128 x 4 x 4      0          False     \n",
       "________________________________________________________________\n",
       "Conv2d               4 x 128 x 4 x 4      147,584    True      \n",
       "________________________________________________________________\n",
       "ELU                  4 x 128 x 4 x 4      0          False     \n",
       "________________________________________________________________\n",
       "GroupNorm            4 x 128 x 4 x 4      256        True      \n",
       "________________________________________________________________\n",
       "Conv2d               4 x 128 x 4 x 4      295,040    True      \n",
       "________________________________________________________________\n",
       "ELU                  4 x 128 x 4 x 4      0          False     \n",
       "________________________________________________________________\n",
       "GroupNorm            4 x 128 x 4 x 4      256        True      \n",
       "________________________________________________________________\n",
       "Conv2d               4 x 128 x 4 x 4      442,496    True      \n",
       "________________________________________________________________\n",
       "ELU                  4 x 128 x 4 x 4      0          False     \n",
       "________________________________________________________________\n",
       "GroupNorm            4 x 128 x 4 x 4      256        True      \n",
       "________________________________________________________________\n",
       "Conv2d               4 x 128 x 4 x 4      589,952    True      \n",
       "________________________________________________________________\n",
       "ELU                  4 x 128 x 4 x 4      0          False     \n",
       "________________________________________________________________\n",
       "GroupNorm            4 x 128 x 4 x 4      256        True      \n",
       "________________________________________________________________\n",
       "Conv2d               4 x 128 x 4 x 4      82,048     True      \n",
       "________________________________________________________________\n",
       "ELU                  4 x 128 x 4 x 4      0          False     \n",
       "________________________________________________________________\n",
       "Conv2d               4 x 128 x 4 x 4      147,584    True      \n",
       "________________________________________________________________\n",
       "ELU                  4 x 128 x 4 x 4      0          False     \n",
       "________________________________________________________________\n",
       "GroupNorm            4 x 128 x 4 x 4      256        True      \n",
       "________________________________________________________________\n",
       "ConvTranspose2d      4 x 128 x 8 x 7      147,584    True      \n",
       "________________________________________________________________\n",
       "ELU                  4 x 128 x 8 x 7      0          False     \n",
       "________________________________________________________________\n",
       "Conv2d               4 x 128 x 8 x 7      295,040    True      \n",
       "________________________________________________________________\n",
       "ELU                  4 x 128 x 8 x 7      0          False     \n",
       "________________________________________________________________\n",
       "GroupNorm            4 x 128 x 8 x 7      256        True      \n",
       "________________________________________________________________\n",
       "ConvTranspose2d      4 x 128 x 16 x 14    147,584    True      \n",
       "________________________________________________________________\n",
       "ELU                  4 x 128 x 16 x 14    0          False     \n",
       "________________________________________________________________\n",
       "Conv2d               4 x 128 x 16 x 14    295,040    True      \n",
       "________________________________________________________________\n",
       "ELU                  4 x 128 x 16 x 14    0          False     \n",
       "________________________________________________________________\n",
       "GroupNorm            4 x 128 x 16 x 14    256        True      \n",
       "________________________________________________________________\n",
       "ConvTranspose2d      4 x 128 x 31 x 28    147,584    True      \n",
       "________________________________________________________________\n",
       "ELU                  4 x 128 x 31 x 28    0          False     \n",
       "________________________________________________________________\n",
       "Conv2d               4 x 128 x 31 x 28    295,040    True      \n",
       "________________________________________________________________\n",
       "ELU                  4 x 128 x 31 x 28    0          False     \n",
       "________________________________________________________________\n",
       "GroupNorm            4 x 128 x 31 x 28    256        True      \n",
       "________________________________________________________________\n",
       "ConvTranspose2d      4 x 128 x 62 x 55    147,584    True      \n",
       "________________________________________________________________\n",
       "ELU                  4 x 128 x 62 x 55    0          False     \n",
       "________________________________________________________________\n",
       "Conv2d               4 x 128 x 62 x 55    295,040    True      \n",
       "________________________________________________________________\n",
       "ELU                  4 x 128 x 62 x 55    0          False     \n",
       "________________________________________________________________\n",
       "GroupNorm            4 x 128 x 62 x 55    256        True      \n",
       "________________________________________________________________\n",
       "ConvTranspose2d      4 x 128 x 124 x 109  147,584    True      \n",
       "________________________________________________________________\n",
       "ELU                  4 x 128 x 124 x 109  0          False     \n",
       "________________________________________________________________\n",
       "Conv2d               4 x 128 x 124 x 109  295,040    True      \n",
       "________________________________________________________________\n",
       "ELU                  4 x 128 x 124 x 109  0          False     \n",
       "________________________________________________________________\n",
       "GroupNorm            4 x 128 x 124 x 109  256        True      \n",
       "________________________________________________________________\n",
       "ConvTranspose2d      4 x 128 x 248 x 218  147,584    True      \n",
       "________________________________________________________________\n",
       "ELU                  4 x 128 x 248 x 218  0          False     \n",
       "________________________________________________________________\n",
       "Conv2d               4 x 128 x 248 x 218  258,176    True      \n",
       "________________________________________________________________\n",
       "ELU                  4 x 128 x 248 x 218  0          False     \n",
       "________________________________________________________________\n",
       "GroupNorm            4 x 128 x 248 x 218  256        True      \n",
       "________________________________________________________________\n",
       "ConvTranspose2d      4 x 128 x 495 x 436  147,584    True      \n",
       "________________________________________________________________\n",
       "ELU                  4 x 128 x 495 x 436  0          False     \n",
       "________________________________________________________________\n",
       "Conv2d               4 x 128 x 495 x 436  221,312    True      \n",
       "________________________________________________________________\n",
       "ELU                  4 x 128 x 495 x 436  0          False     \n",
       "________________________________________________________________\n",
       "GroupNorm            4 x 128 x 495 x 436  256        True      \n",
       "________________________________________________________________\n",
       "Conv2d               4 x 96 x 495 x 436   110,688    True      \n",
       "________________________________________________________________\n",
       "Sigmoid              4 x 96 x 495 x 436   0          False     \n",
       "________________________________________________________________\n",
       "\n",
       "Total params: 13,785,536\n",
       "Total trainable params: 13,785,536\n",
       "Total non-trainable params: 0\n",
       "\n",
       "Optimizer used: <function Adam at 0x7f9410aa5670>\n",
       "Loss function: MSELoss()\n",
       "\n",
       "Callbacks:\n",
       "  - TrainEvalCallback\n",
       "  - Recorder\n",
       "  - ProgressCallback"
      ]
     },
     "execution_count": 7,
     "metadata": {},
     "output_type": "execute_result"
    }
   ],
   "source": [
    "learn.summary()"
   ]
  },
  {
   "cell_type": "markdown",
   "metadata": {},
   "source": [
    "# Find Suitable Learning Rate"
   ]
  },
  {
   "cell_type": "code",
   "execution_count": 8,
   "metadata": {},
   "outputs": [
    {
     "data": {
      "text/html": [],
      "text/plain": [
       "<IPython.core.display.HTML object>"
      ]
     },
     "metadata": {},
     "output_type": "display_data"
    },
    {
     "name": "stdout",
     "output_type": "stream",
     "text": [
      "Minimum/10: 3.31e-01, steepest point: 2.29e-04\n"
     ]
    },
    {
     "data": {
      "image/png": "[encoded data removed]",
      "text/plain": [
       "<Figure size 432x288 with 1 Axes>"
      ]
     },
     "metadata": {
      "needs_background": "light"
     },
     "output_type": "display_data"
    }
   ],
   "source": [
    "lr_min,lr_steep = learn.lr_find()\n",
    "print(f\"Minimum/10: {lr_min:.2e}, steepest point: {lr_steep:.2e}\")"
   ]
  },
  {
   "cell_type": "markdown",
   "metadata": {},
   "source": [
    "# Run Training Cycles"
   ]
  },
  {
   "cell_type": "code",
   "execution_count": null,
   "metadata": {
    "scrolled": true
   },
   "outputs": [],
   "source": [
    "learn.fit_one_cycle(7, lr_max=3e-4)"
   ]
  },
  {
   "cell_type": "code",
   "execution_count": null,
   "metadata": {},
   "outputs": [],
   "source": [
    "learn.save('moscow_o007')"
   ]
  },
  {
   "cell_type": "markdown",
   "metadata": {},
   "source": [
    "Run more cycles until leaderboard score no longer improves."
   ]
  }
 ],
 "metadata": {
  "kernelspec": {
   "name": "python3",
   "display_name": "Python 3"
  },
  "language_info": {
   "codemirror_mode": {
    "name": "ipython",
    "version": 3
   },
   "file_extension": ".py",
   "mimetype": "text/x-python",
   "name": "python",
   "nbconvert_exporter": "python",
   "pygments_lexer": "ipython3",
   "version": "3.7.6-final"
  }
 },
 "nbformat": 4,
 "nbformat_minor": 4
}